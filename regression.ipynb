{
  "nbformat": 4,
  "nbformat_minor": 0,
  "metadata": {
    "colab": {
      "provenance": []
    },
    "kernelspec": {
      "name": "python3",
      "display_name": "Python 3"
    },
    "language_info": {
      "name": "python"
    }
  },
  "cells": [
    {
      "cell_type": "code",
      "execution_count": 1,
      "metadata": {
        "id": "82vRkp7uisSz"
      },
      "outputs": [],
      "source": [
        "import pandas as pd\n",
        "import numpy as np"
      ]
    },
    {
      "cell_type": "code",
      "source": [
        "df_train = pd.read_csv(\"/content/sample_data/california_housing_train.csv\")\n",
        "df_test = pd.read_csv(\"/content/sample_data/california_housing_test.csv\")"
      ],
      "metadata": {
        "id": "qfiM1zb5jfhm"
      },
      "execution_count": 2,
      "outputs": []
    },
    {
      "cell_type": "code",
      "source": [
        "print(df_train.shape, df_test.shape)"
      ],
      "metadata": {
        "colab": {
          "base_uri": "https://localhost:8080/"
        },
        "id": "HAP2WN7ijiXY",
        "outputId": "14951f59-7f11-4e1a-a7cf-516ffdd12852"
      },
      "execution_count": 3,
      "outputs": [
        {
          "output_type": "stream",
          "name": "stdout",
          "text": [
            "(17000, 9) (3000, 9)\n"
          ]
        }
      ]
    },
    {
      "cell_type": "code",
      "source": [
        "df_train.tail()"
      ],
      "metadata": {
        "colab": {
          "base_uri": "https://localhost:8080/",
          "height": 206
        },
        "id": "IqvGiH6JjmBv",
        "outputId": "7914825f-4916-4607-bd67-412a2de1bb5e"
      },
      "execution_count": 4,
      "outputs": [
        {
          "output_type": "execute_result",
          "data": {
            "text/plain": [
              "       longitude  latitude  housing_median_age  total_rooms  total_bedrooms  \\\n",
              "16995    -124.26     40.58                52.0       2217.0           394.0   \n",
              "16996    -124.27     40.69                36.0       2349.0           528.0   \n",
              "16997    -124.30     41.84                17.0       2677.0           531.0   \n",
              "16998    -124.30     41.80                19.0       2672.0           552.0   \n",
              "16999    -124.35     40.54                52.0       1820.0           300.0   \n",
              "\n",
              "       population  households  median_income  median_house_value  \n",
              "16995       907.0       369.0         2.3571            111400.0  \n",
              "16996      1194.0       465.0         2.5179             79000.0  \n",
              "16997      1244.0       456.0         3.0313            103600.0  \n",
              "16998      1298.0       478.0         1.9797             85800.0  \n",
              "16999       806.0       270.0         3.0147             94600.0  "
            ],
            "text/html": [
              "\n",
              "  <div id=\"df-4774ebb0-4bc6-4ae9-8834-0e2eb21b4d56\">\n",
              "    <div class=\"colab-df-container\">\n",
              "      <div>\n",
              "<style scoped>\n",
              "    .dataframe tbody tr th:only-of-type {\n",
              "        vertical-align: middle;\n",
              "    }\n",
              "\n",
              "    .dataframe tbody tr th {\n",
              "        vertical-align: top;\n",
              "    }\n",
              "\n",
              "    .dataframe thead th {\n",
              "        text-align: right;\n",
              "    }\n",
              "</style>\n",
              "<table border=\"1\" class=\"dataframe\">\n",
              "  <thead>\n",
              "    <tr style=\"text-align: right;\">\n",
              "      <th></th>\n",
              "      <th>longitude</th>\n",
              "      <th>latitude</th>\n",
              "      <th>housing_median_age</th>\n",
              "      <th>total_rooms</th>\n",
              "      <th>total_bedrooms</th>\n",
              "      <th>population</th>\n",
              "      <th>households</th>\n",
              "      <th>median_income</th>\n",
              "      <th>median_house_value</th>\n",
              "    </tr>\n",
              "  </thead>\n",
              "  <tbody>\n",
              "    <tr>\n",
              "      <th>16995</th>\n",
              "      <td>-124.26</td>\n",
              "      <td>40.58</td>\n",
              "      <td>52.0</td>\n",
              "      <td>2217.0</td>\n",
              "      <td>394.0</td>\n",
              "      <td>907.0</td>\n",
              "      <td>369.0</td>\n",
              "      <td>2.3571</td>\n",
              "      <td>111400.0</td>\n",
              "    </tr>\n",
              "    <tr>\n",
              "      <th>16996</th>\n",
              "      <td>-124.27</td>\n",
              "      <td>40.69</td>\n",
              "      <td>36.0</td>\n",
              "      <td>2349.0</td>\n",
              "      <td>528.0</td>\n",
              "      <td>1194.0</td>\n",
              "      <td>465.0</td>\n",
              "      <td>2.5179</td>\n",
              "      <td>79000.0</td>\n",
              "    </tr>\n",
              "    <tr>\n",
              "      <th>16997</th>\n",
              "      <td>-124.30</td>\n",
              "      <td>41.84</td>\n",
              "      <td>17.0</td>\n",
              "      <td>2677.0</td>\n",
              "      <td>531.0</td>\n",
              "      <td>1244.0</td>\n",
              "      <td>456.0</td>\n",
              "      <td>3.0313</td>\n",
              "      <td>103600.0</td>\n",
              "    </tr>\n",
              "    <tr>\n",
              "      <th>16998</th>\n",
              "      <td>-124.30</td>\n",
              "      <td>41.80</td>\n",
              "      <td>19.0</td>\n",
              "      <td>2672.0</td>\n",
              "      <td>552.0</td>\n",
              "      <td>1298.0</td>\n",
              "      <td>478.0</td>\n",
              "      <td>1.9797</td>\n",
              "      <td>85800.0</td>\n",
              "    </tr>\n",
              "    <tr>\n",
              "      <th>16999</th>\n",
              "      <td>-124.35</td>\n",
              "      <td>40.54</td>\n",
              "      <td>52.0</td>\n",
              "      <td>1820.0</td>\n",
              "      <td>300.0</td>\n",
              "      <td>806.0</td>\n",
              "      <td>270.0</td>\n",
              "      <td>3.0147</td>\n",
              "      <td>94600.0</td>\n",
              "    </tr>\n",
              "  </tbody>\n",
              "</table>\n",
              "</div>\n",
              "      <button class=\"colab-df-convert\" onclick=\"convertToInteractive('df-4774ebb0-4bc6-4ae9-8834-0e2eb21b4d56')\"\n",
              "              title=\"Convert this dataframe to an interactive table.\"\n",
              "              style=\"display:none;\">\n",
              "        \n",
              "  <svg xmlns=\"http://www.w3.org/2000/svg\" height=\"24px\"viewBox=\"0 0 24 24\"\n",
              "       width=\"24px\">\n",
              "    <path d=\"M0 0h24v24H0V0z\" fill=\"none\"/>\n",
              "    <path d=\"M18.56 5.44l.94 2.06.94-2.06 2.06-.94-2.06-.94-.94-2.06-.94 2.06-2.06.94zm-11 1L8.5 8.5l.94-2.06 2.06-.94-2.06-.94L8.5 2.5l-.94 2.06-2.06.94zm10 10l.94 2.06.94-2.06 2.06-.94-2.06-.94-.94-2.06-.94 2.06-2.06.94z\"/><path d=\"M17.41 7.96l-1.37-1.37c-.4-.4-.92-.59-1.43-.59-.52 0-1.04.2-1.43.59L10.3 9.45l-7.72 7.72c-.78.78-.78 2.05 0 2.83L4 21.41c.39.39.9.59 1.41.59.51 0 1.02-.2 1.41-.59l7.78-7.78 2.81-2.81c.8-.78.8-2.07 0-2.86zM5.41 20L4 18.59l7.72-7.72 1.47 1.35L5.41 20z\"/>\n",
              "  </svg>\n",
              "      </button>\n",
              "      \n",
              "  <style>\n",
              "    .colab-df-container {\n",
              "      display:flex;\n",
              "      flex-wrap:wrap;\n",
              "      gap: 12px;\n",
              "    }\n",
              "\n",
              "    .colab-df-convert {\n",
              "      background-color: #E8F0FE;\n",
              "      border: none;\n",
              "      border-radius: 50%;\n",
              "      cursor: pointer;\n",
              "      display: none;\n",
              "      fill: #1967D2;\n",
              "      height: 32px;\n",
              "      padding: 0 0 0 0;\n",
              "      width: 32px;\n",
              "    }\n",
              "\n",
              "    .colab-df-convert:hover {\n",
              "      background-color: #E2EBFA;\n",
              "      box-shadow: 0px 1px 2px rgba(60, 64, 67, 0.3), 0px 1px 3px 1px rgba(60, 64, 67, 0.15);\n",
              "      fill: #174EA6;\n",
              "    }\n",
              "\n",
              "    [theme=dark] .colab-df-convert {\n",
              "      background-color: #3B4455;\n",
              "      fill: #D2E3FC;\n",
              "    }\n",
              "\n",
              "    [theme=dark] .colab-df-convert:hover {\n",
              "      background-color: #434B5C;\n",
              "      box-shadow: 0px 1px 3px 1px rgba(0, 0, 0, 0.15);\n",
              "      filter: drop-shadow(0px 1px 2px rgba(0, 0, 0, 0.3));\n",
              "      fill: #FFFFFF;\n",
              "    }\n",
              "  </style>\n",
              "\n",
              "      <script>\n",
              "        const buttonEl =\n",
              "          document.querySelector('#df-4774ebb0-4bc6-4ae9-8834-0e2eb21b4d56 button.colab-df-convert');\n",
              "        buttonEl.style.display =\n",
              "          google.colab.kernel.accessAllowed ? 'block' : 'none';\n",
              "\n",
              "        async function convertToInteractive(key) {\n",
              "          const element = document.querySelector('#df-4774ebb0-4bc6-4ae9-8834-0e2eb21b4d56');\n",
              "          const dataTable =\n",
              "            await google.colab.kernel.invokeFunction('convertToInteractive',\n",
              "                                                     [key], {});\n",
              "          if (!dataTable) return;\n",
              "\n",
              "          const docLinkHtml = 'Like what you see? Visit the ' +\n",
              "            '<a target=\"_blank\" href=https://colab.research.google.com/notebooks/data_table.ipynb>data table notebook</a>'\n",
              "            + ' to learn more about interactive tables.';\n",
              "          element.innerHTML = '';\n",
              "          dataTable['output_type'] = 'display_data';\n",
              "          await google.colab.output.renderOutput(dataTable, element);\n",
              "          const docLink = document.createElement('div');\n",
              "          docLink.innerHTML = docLinkHtml;\n",
              "          element.appendChild(docLink);\n",
              "        }\n",
              "      </script>\n",
              "    </div>\n",
              "  </div>\n",
              "  "
            ]
          },
          "metadata": {},
          "execution_count": 4
        }
      ]
    },
    {
      "cell_type": "code",
      "source": [
        "df_test.tail()"
      ],
      "metadata": {
        "colab": {
          "base_uri": "https://localhost:8080/",
          "height": 206
        },
        "id": "ErZxNCAIjorg",
        "outputId": "25f5656a-0903-4463-b1d6-3258190689ba"
      },
      "execution_count": 5,
      "outputs": [
        {
          "output_type": "execute_result",
          "data": {
            "text/plain": [
              "      longitude  latitude  housing_median_age  total_rooms  total_bedrooms  \\\n",
              "2995    -119.86     34.42                23.0       1450.0           642.0   \n",
              "2996    -118.14     34.06                27.0       5257.0          1082.0   \n",
              "2997    -119.70     36.30                10.0        956.0           201.0   \n",
              "2998    -117.12     34.10                40.0         96.0            14.0   \n",
              "2999    -119.63     34.42                42.0       1765.0           263.0   \n",
              "\n",
              "      population  households  median_income  median_house_value  \n",
              "2995      1258.0       607.0         1.1790            225000.0  \n",
              "2996      3496.0      1036.0         3.3906            237200.0  \n",
              "2997       693.0       220.0         2.2895             62000.0  \n",
              "2998        46.0        14.0         3.2708            162500.0  \n",
              "2999       753.0       260.0         8.5608            500001.0  "
            ],
            "text/html": [
              "\n",
              "  <div id=\"df-7b964d1f-66ec-4055-9db5-8ba8f8aa741b\">\n",
              "    <div class=\"colab-df-container\">\n",
              "      <div>\n",
              "<style scoped>\n",
              "    .dataframe tbody tr th:only-of-type {\n",
              "        vertical-align: middle;\n",
              "    }\n",
              "\n",
              "    .dataframe tbody tr th {\n",
              "        vertical-align: top;\n",
              "    }\n",
              "\n",
              "    .dataframe thead th {\n",
              "        text-align: right;\n",
              "    }\n",
              "</style>\n",
              "<table border=\"1\" class=\"dataframe\">\n",
              "  <thead>\n",
              "    <tr style=\"text-align: right;\">\n",
              "      <th></th>\n",
              "      <th>longitude</th>\n",
              "      <th>latitude</th>\n",
              "      <th>housing_median_age</th>\n",
              "      <th>total_rooms</th>\n",
              "      <th>total_bedrooms</th>\n",
              "      <th>population</th>\n",
              "      <th>households</th>\n",
              "      <th>median_income</th>\n",
              "      <th>median_house_value</th>\n",
              "    </tr>\n",
              "  </thead>\n",
              "  <tbody>\n",
              "    <tr>\n",
              "      <th>2995</th>\n",
              "      <td>-119.86</td>\n",
              "      <td>34.42</td>\n",
              "      <td>23.0</td>\n",
              "      <td>1450.0</td>\n",
              "      <td>642.0</td>\n",
              "      <td>1258.0</td>\n",
              "      <td>607.0</td>\n",
              "      <td>1.1790</td>\n",
              "      <td>225000.0</td>\n",
              "    </tr>\n",
              "    <tr>\n",
              "      <th>2996</th>\n",
              "      <td>-118.14</td>\n",
              "      <td>34.06</td>\n",
              "      <td>27.0</td>\n",
              "      <td>5257.0</td>\n",
              "      <td>1082.0</td>\n",
              "      <td>3496.0</td>\n",
              "      <td>1036.0</td>\n",
              "      <td>3.3906</td>\n",
              "      <td>237200.0</td>\n",
              "    </tr>\n",
              "    <tr>\n",
              "      <th>2997</th>\n",
              "      <td>-119.70</td>\n",
              "      <td>36.30</td>\n",
              "      <td>10.0</td>\n",
              "      <td>956.0</td>\n",
              "      <td>201.0</td>\n",
              "      <td>693.0</td>\n",
              "      <td>220.0</td>\n",
              "      <td>2.2895</td>\n",
              "      <td>62000.0</td>\n",
              "    </tr>\n",
              "    <tr>\n",
              "      <th>2998</th>\n",
              "      <td>-117.12</td>\n",
              "      <td>34.10</td>\n",
              "      <td>40.0</td>\n",
              "      <td>96.0</td>\n",
              "      <td>14.0</td>\n",
              "      <td>46.0</td>\n",
              "      <td>14.0</td>\n",
              "      <td>3.2708</td>\n",
              "      <td>162500.0</td>\n",
              "    </tr>\n",
              "    <tr>\n",
              "      <th>2999</th>\n",
              "      <td>-119.63</td>\n",
              "      <td>34.42</td>\n",
              "      <td>42.0</td>\n",
              "      <td>1765.0</td>\n",
              "      <td>263.0</td>\n",
              "      <td>753.0</td>\n",
              "      <td>260.0</td>\n",
              "      <td>8.5608</td>\n",
              "      <td>500001.0</td>\n",
              "    </tr>\n",
              "  </tbody>\n",
              "</table>\n",
              "</div>\n",
              "      <button class=\"colab-df-convert\" onclick=\"convertToInteractive('df-7b964d1f-66ec-4055-9db5-8ba8f8aa741b')\"\n",
              "              title=\"Convert this dataframe to an interactive table.\"\n",
              "              style=\"display:none;\">\n",
              "        \n",
              "  <svg xmlns=\"http://www.w3.org/2000/svg\" height=\"24px\"viewBox=\"0 0 24 24\"\n",
              "       width=\"24px\">\n",
              "    <path d=\"M0 0h24v24H0V0z\" fill=\"none\"/>\n",
              "    <path d=\"M18.56 5.44l.94 2.06.94-2.06 2.06-.94-2.06-.94-.94-2.06-.94 2.06-2.06.94zm-11 1L8.5 8.5l.94-2.06 2.06-.94-2.06-.94L8.5 2.5l-.94 2.06-2.06.94zm10 10l.94 2.06.94-2.06 2.06-.94-2.06-.94-.94-2.06-.94 2.06-2.06.94z\"/><path d=\"M17.41 7.96l-1.37-1.37c-.4-.4-.92-.59-1.43-.59-.52 0-1.04.2-1.43.59L10.3 9.45l-7.72 7.72c-.78.78-.78 2.05 0 2.83L4 21.41c.39.39.9.59 1.41.59.51 0 1.02-.2 1.41-.59l7.78-7.78 2.81-2.81c.8-.78.8-2.07 0-2.86zM5.41 20L4 18.59l7.72-7.72 1.47 1.35L5.41 20z\"/>\n",
              "  </svg>\n",
              "      </button>\n",
              "      \n",
              "  <style>\n",
              "    .colab-df-container {\n",
              "      display:flex;\n",
              "      flex-wrap:wrap;\n",
              "      gap: 12px;\n",
              "    }\n",
              "\n",
              "    .colab-df-convert {\n",
              "      background-color: #E8F0FE;\n",
              "      border: none;\n",
              "      border-radius: 50%;\n",
              "      cursor: pointer;\n",
              "      display: none;\n",
              "      fill: #1967D2;\n",
              "      height: 32px;\n",
              "      padding: 0 0 0 0;\n",
              "      width: 32px;\n",
              "    }\n",
              "\n",
              "    .colab-df-convert:hover {\n",
              "      background-color: #E2EBFA;\n",
              "      box-shadow: 0px 1px 2px rgba(60, 64, 67, 0.3), 0px 1px 3px 1px rgba(60, 64, 67, 0.15);\n",
              "      fill: #174EA6;\n",
              "    }\n",
              "\n",
              "    [theme=dark] .colab-df-convert {\n",
              "      background-color: #3B4455;\n",
              "      fill: #D2E3FC;\n",
              "    }\n",
              "\n",
              "    [theme=dark] .colab-df-convert:hover {\n",
              "      background-color: #434B5C;\n",
              "      box-shadow: 0px 1px 3px 1px rgba(0, 0, 0, 0.15);\n",
              "      filter: drop-shadow(0px 1px 2px rgba(0, 0, 0, 0.3));\n",
              "      fill: #FFFFFF;\n",
              "    }\n",
              "  </style>\n",
              "\n",
              "      <script>\n",
              "        const buttonEl =\n",
              "          document.querySelector('#df-7b964d1f-66ec-4055-9db5-8ba8f8aa741b button.colab-df-convert');\n",
              "        buttonEl.style.display =\n",
              "          google.colab.kernel.accessAllowed ? 'block' : 'none';\n",
              "\n",
              "        async function convertToInteractive(key) {\n",
              "          const element = document.querySelector('#df-7b964d1f-66ec-4055-9db5-8ba8f8aa741b');\n",
              "          const dataTable =\n",
              "            await google.colab.kernel.invokeFunction('convertToInteractive',\n",
              "                                                     [key], {});\n",
              "          if (!dataTable) return;\n",
              "\n",
              "          const docLinkHtml = 'Like what you see? Visit the ' +\n",
              "            '<a target=\"_blank\" href=https://colab.research.google.com/notebooks/data_table.ipynb>data table notebook</a>'\n",
              "            + ' to learn more about interactive tables.';\n",
              "          element.innerHTML = '';\n",
              "          dataTable['output_type'] = 'display_data';\n",
              "          await google.colab.output.renderOutput(dataTable, element);\n",
              "          const docLink = document.createElement('div');\n",
              "          docLink.innerHTML = docLinkHtml;\n",
              "          element.appendChild(docLink);\n",
              "        }\n",
              "      </script>\n",
              "    </div>\n",
              "  </div>\n",
              "  "
            ]
          },
          "metadata": {},
          "execution_count": 5
        }
      ]
    },
    {
      "cell_type": "code",
      "source": [
        "df_x_train = df_train.drop(labels=[\"median_house_value\"], axis=1)\n",
        "df_y_train = df_train[[\"median_house_value\"]]\n",
        "df_x_test = df_test.drop(labels=[\"median_house_value\"], axis=1)\n",
        "df_y_test = df_test[[\"median_house_value\"]]"
      ],
      "metadata": {
        "id": "LsS3jqQkjq7E"
      },
      "execution_count": 6,
      "outputs": []
    },
    {
      "cell_type": "code",
      "source": [
        "print(df_x_train.shape, df_y_train.shape, df_x_test.shape, df_y_test.shape)"
      ],
      "metadata": {
        "colab": {
          "base_uri": "https://localhost:8080/"
        },
        "id": "RyVQA8EZjuWl",
        "outputId": "58247f6c-74e3-4629-8492-0ee4fdeaee67"
      },
      "execution_count": 7,
      "outputs": [
        {
          "output_type": "stream",
          "name": "stdout",
          "text": [
            "(17000, 8) (17000, 1) (3000, 8) (3000, 1)\n"
          ]
        }
      ]
    },
    {
      "cell_type": "code",
      "source": [
        "#### normalizaion\n",
        "from sklearn.preprocessing import StandardScaler\n",
        "\n",
        "scaler = StandardScaler()\n",
        "x_train_nrm = scaler.fit_transform(df_x_train) # obtain normalization parameters of train dataframe and then normalize it\n",
        "x_test_nrm = scaler.transform(df_x_test) # normalize test dataframe w.r.t. the normalization parameters of train dataframe"
      ],
      "metadata": {
        "id": "DQZDgAXDjxL1"
      },
      "execution_count": 8,
      "outputs": []
    },
    {
      "cell_type": "code",
      "source": [
        "print(type(x_train_nrm), x_train_nrm.shape, type(x_test_nrm), x_test_nrm.shape) # x_nrm is not a data frame"
      ],
      "metadata": {
        "colab": {
          "base_uri": "https://localhost:8080/"
        },
        "id": "wR0oIxZ5j_OA",
        "outputId": "b36931d3-c3c7-4d68-a989-ebae2433d028"
      },
      "execution_count": 9,
      "outputs": [
        {
          "output_type": "stream",
          "name": "stdout",
          "text": [
            "<class 'numpy.ndarray'> (17000, 8) <class 'numpy.ndarray'> (3000, 8)\n"
          ]
        }
      ]
    },
    {
      "cell_type": "code",
      "source": [
        "print(df_x_train.values[0], x_train_nrm[0])"
      ],
      "metadata": {
        "colab": {
          "base_uri": "https://localhost:8080/"
        },
        "id": "_u9N5uTck2Tc",
        "outputId": "3774e2a9-debf-4664-fd2d-0d86908f629d"
      },
      "execution_count": 10,
      "outputs": [
        {
          "output_type": "stream",
          "name": "stdout",
          "text": [
            "[-1.1431e+02  3.4190e+01  1.5000e+01  5.6120e+03  1.2830e+03  1.0150e+03\n",
            "  4.7200e+02  1.4936e+00] [ 2.619365   -0.67152023 -1.07967114  1.36169494  1.76420407 -0.36118401\n",
            " -0.07599796 -1.25254316]\n"
          ]
        }
      ]
    },
    {
      "cell_type": "code",
      "source": [
        "print(df_x_test.values[0], x_test_nrm[0])"
      ],
      "metadata": {
        "colab": {
          "base_uri": "https://localhost:8080/"
        },
        "id": "fd3Az97gk5B-",
        "outputId": "0dcdbed9-4c7e-4b47-c5a4-b0b6871d1569"
      },
      "execution_count": 11,
      "outputs": [
        {
          "output_type": "stream",
          "name": "stdout",
          "text": [
            "[-122.05     37.37     27.     3885.      661.     1537.      606.\n",
            "    6.6085] [-1.24077729  0.81635434 -0.12627375  0.56945057  0.28847666  0.09359145\n",
            "  0.27249795  1.42808099]\n"
          ]
        }
      ]
    },
    {
      "cell_type": "code",
      "source": [
        "print(x_train_nrm.mean(0), x_train_nrm.std(0)) # mean and standard deviation"
      ],
      "metadata": {
        "colab": {
          "base_uri": "https://localhost:8080/"
        },
        "id": "3ycHVoozlAm2",
        "outputId": "49522f13-4391-4392-fb06-ec2ea8a3437d"
      },
      "execution_count": 12,
      "outputs": [
        {
          "output_type": "stream",
          "name": "stdout",
          "text": [
            "[-6.63396135e-15  2.67498442e-17 -7.60698694e-17 -9.02807241e-17\n",
            " -8.69369936e-17  7.35620715e-17  2.00623831e-17 -3.64466627e-16] [1. 1. 1. 1. 1. 1. 1. 1.]\n"
          ]
        }
      ]
    },
    {
      "cell_type": "code",
      "source": [
        "print(x_test_nrm.mean(0), x_test_nrm.std(0)) # mean and standard deviation"
      ],
      "metadata": {
        "colab": {
          "base_uri": "https://localhost:8080/"
        },
        "id": "qbNrDNlplFVf",
        "outputId": "c4bf7543-df21-4393-8421-6ba6f1850d3e"
      },
      "execution_count": 13,
      "outputs": [
        {
          "output_type": "stream",
          "name": "stdout",
          "text": [
            "[-0.01351138  0.00475619  0.02033759 -0.0202239  -0.02244472 -0.02332708\n",
            " -0.02941394 -0.03999072] [0.99476155 0.99627452 0.99735719 0.98869255 0.98599727 0.8976773\n",
            " 0.9502022  0.97175318]\n"
          ]
        }
      ]
    },
    {
      "cell_type": "code",
      "source": [
        "y_train = df_y_train.values # change the dataframe to an array, similar to x_nrm\n",
        "y_test = df_y_test.values \n",
        "print(type(y_train), type(y_test))"
      ],
      "metadata": {
        "colab": {
          "base_uri": "https://localhost:8080/"
        },
        "id": "ziaIkrUAlJLM",
        "outputId": "fc3094ed-a237-4bbd-f46e-738e6b2c0d08"
      },
      "execution_count": 14,
      "outputs": [
        {
          "output_type": "stream",
          "name": "stdout",
          "text": [
            "<class 'numpy.ndarray'> <class 'numpy.ndarray'>\n"
          ]
        }
      ]
    },
    {
      "cell_type": "code",
      "source": [
        "print(x_train_nrm.shape, type(x_train_nrm.shape),\n",
        "      x_train_nrm.shape[0], x_train_nrm.shape[1], x_train_nrm.shape[1:])"
      ],
      "metadata": {
        "colab": {
          "base_uri": "https://localhost:8080/"
        },
        "id": "Xpxxw_mZbw-v",
        "outputId": "458634a8-f93b-4187-c00a-6d2f4e65af8d"
      },
      "execution_count": 15,
      "outputs": [
        {
          "output_type": "stream",
          "name": "stdout",
          "text": [
            "(17000, 8) <class 'tuple'> 17000 8 (8,)\n"
          ]
        }
      ]
    },
    {
      "cell_type": "code",
      "source": [
        "from keras.models import Sequential \n",
        "\n",
        "''' \n",
        "Keras is a neural network Application Programming Interface (API) for Python integrated with TensorFlow.\n",
        "\n",
        "Sequential is a class. The core idea of Sequential API is simply arranging the Keras layers in a sequential order \n",
        "and so, it is called Sequential API. Most of the ANN also has layers in sequential order and the data flows from one \n",
        "layer to another layer in the given order until the data finally reaches the output layer.\n",
        "'''\n",
        "\n",
        "from keras.layers import Dense # creat pattern for NN layers; Dense is a Class\n",
        "\n",
        "model = Sequential() # an empty model, with no layers and neurons; model is an object from Sequential\n",
        "\n",
        "# add the above created Dense NN\n",
        "model.add(Dense(512, activation=\"relu\", input_shape=x_train_nrm.shape[1:])) \n",
        "# .add is a function in Sequential; first hidden layer with 512 neurons and a Rectified Linear Unit (ReLU) activation function\n",
        "\n",
        "model.add(Dense(256, activation=\"relu\")) \n",
        "# second hidden layer with 256 neurons \n",
        "\n",
        "model.add(Dense(64, activation=\"relu\")) \n",
        "# third hidden layer with 64 neurons \n",
        "\n",
        "model.add(Dense(32, activation=\"relu\")) \n",
        "# forth hidden layer with 32 neurons \n",
        "\n",
        "model.add(Dense(1, activation=\"linear\")) \n",
        "# fifth layer (output layer) with 1 neuron and a linear activation function"
      ],
      "metadata": {
        "id": "GUSgVTgmlSaY"
      },
      "execution_count": 16,
      "outputs": []
    },
    {
      "cell_type": "code",
      "source": [
        "model.summary() \n",
        "# 4608 = 8 weights pertaining to 8 inputs * 512 neurons + 512 biases; \n",
        "# 131328 = 512 weights pertainig to 512 inputs * 256 neurons + 256 biases"
      ],
      "metadata": {
        "colab": {
          "base_uri": "https://localhost:8080/"
        },
        "id": "ZibA04gWmr42",
        "outputId": "20ff04ff-a8ce-4c81-9e7c-223a24089808"
      },
      "execution_count": 17,
      "outputs": [
        {
          "output_type": "stream",
          "name": "stdout",
          "text": [
            "Model: \"sequential\"\n",
            "_________________________________________________________________\n",
            " Layer (type)                Output Shape              Param #   \n",
            "=================================================================\n",
            " dense (Dense)               (None, 512)               4608      \n",
            "                                                                 \n",
            " dense_1 (Dense)             (None, 256)               131328    \n",
            "                                                                 \n",
            " dense_2 (Dense)             (None, 64)                16448     \n",
            "                                                                 \n",
            " dense_3 (Dense)             (None, 32)                2080      \n",
            "                                                                 \n",
            " dense_4 (Dense)             (None, 1)                 33        \n",
            "                                                                 \n",
            "=================================================================\n",
            "Total params: 154,497\n",
            "Trainable params: 154,497\n",
            "Non-trainable params: 0\n",
            "_________________________________________________________________\n"
          ]
        }
      ]
    },
    {
      "cell_type": "code",
      "source": [
        "'''Once the model is created, you can config the model with losses and metrics with model.compile(), train the model with model.fit(),\n",
        "or use the model to do prediction with model.predict().'''\n",
        "model.compile(optimizer='adam', loss='mae', metrics='acc') "
      ],
      "metadata": {
        "id": "l3rwuWPOlV76"
      },
      "execution_count": 18,
      "outputs": []
    },
    {
      "cell_type": "code",
      "source": [
        "results = model.fit(x_train_nrm, y_train, epochs=30, \n",
        "          validation_data=(x_test_nrm, y_test), batch_size=32) \n",
        "# epochs indicates the number of obtaining the wieghts via optimization"
      ],
      "metadata": {
        "colab": {
          "base_uri": "https://localhost:8080/"
        },
        "id": "P3MBXfqzl1nM",
        "outputId": "5bba2838-8681-4ca6-df26-1b27054287c2"
      },
      "execution_count": 19,
      "outputs": [
        {
          "output_type": "stream",
          "name": "stdout",
          "text": [
            "Epoch 1/30\n",
            "532/532 [==============================] - 4s 5ms/step - loss: 103851.1797 - acc: 0.0000e+00 - val_loss: 54691.1406 - val_acc: 0.0000e+00\n",
            "Epoch 2/30\n",
            "532/532 [==============================] - 2s 4ms/step - loss: 49811.5195 - acc: 0.0000e+00 - val_loss: 47386.4492 - val_acc: 0.0000e+00\n",
            "Epoch 3/30\n",
            "532/532 [==============================] - 2s 4ms/step - loss: 46904.5195 - acc: 0.0000e+00 - val_loss: 46322.6836 - val_acc: 0.0000e+00\n",
            "Epoch 4/30\n",
            "532/532 [==============================] - 2s 4ms/step - loss: 46197.0938 - acc: 0.0000e+00 - val_loss: 46037.0664 - val_acc: 0.0000e+00\n",
            "Epoch 5/30\n",
            "532/532 [==============================] - 2s 4ms/step - loss: 45806.5430 - acc: 0.0000e+00 - val_loss: 45865.1289 - val_acc: 0.0000e+00\n",
            "Epoch 6/30\n",
            "532/532 [==============================] - 2s 4ms/step - loss: 45470.4336 - acc: 0.0000e+00 - val_loss: 45330.8789 - val_acc: 0.0000e+00\n",
            "Epoch 7/30\n",
            "532/532 [==============================] - 2s 4ms/step - loss: 45256.6133 - acc: 0.0000e+00 - val_loss: 45059.0234 - val_acc: 0.0000e+00\n",
            "Epoch 8/30\n",
            "532/532 [==============================] - 2s 5ms/step - loss: 44956.7266 - acc: 0.0000e+00 - val_loss: 45171.2109 - val_acc: 0.0000e+00\n",
            "Epoch 9/30\n",
            "532/532 [==============================] - 4s 7ms/step - loss: 44852.4414 - acc: 0.0000e+00 - val_loss: 44652.7227 - val_acc: 0.0000e+00\n",
            "Epoch 10/30\n",
            "532/532 [==============================] - 4s 7ms/step - loss: 44614.1484 - acc: 0.0000e+00 - val_loss: 44581.7852 - val_acc: 0.0000e+00\n",
            "Epoch 11/30\n",
            "532/532 [==============================] - 3s 7ms/step - loss: 44464.4102 - acc: 0.0000e+00 - val_loss: 44354.0977 - val_acc: 0.0000e+00\n",
            "Epoch 12/30\n",
            "532/532 [==============================] - 5s 9ms/step - loss: 44257.0391 - acc: 0.0000e+00 - val_loss: 44599.9883 - val_acc: 0.0000e+00\n",
            "Epoch 13/30\n",
            "532/532 [==============================] - 4s 7ms/step - loss: 44075.0312 - acc: 0.0000e+00 - val_loss: 44582.3164 - val_acc: 0.0000e+00\n",
            "Epoch 14/30\n",
            "532/532 [==============================] - 4s 7ms/step - loss: 43940.6094 - acc: 0.0000e+00 - val_loss: 44036.3828 - val_acc: 0.0000e+00\n",
            "Epoch 15/30\n",
            "532/532 [==============================] - 5s 9ms/step - loss: 43834.2070 - acc: 0.0000e+00 - val_loss: 43822.7969 - val_acc: 0.0000e+00\n",
            "Epoch 16/30\n",
            "532/532 [==============================] - 4s 7ms/step - loss: 43521.8125 - acc: 0.0000e+00 - val_loss: 43619.5977 - val_acc: 0.0000e+00\n",
            "Epoch 17/30\n",
            "532/532 [==============================] - 3s 7ms/step - loss: 43293.2656 - acc: 0.0000e+00 - val_loss: 43464.1445 - val_acc: 0.0000e+00\n",
            "Epoch 18/30\n",
            "532/532 [==============================] - 4s 7ms/step - loss: 43119.3633 - acc: 0.0000e+00 - val_loss: 43388.0703 - val_acc: 0.0000e+00\n",
            "Epoch 19/30\n",
            "532/532 [==============================] - 2s 4ms/step - loss: 42867.6641 - acc: 0.0000e+00 - val_loss: 42985.2266 - val_acc: 0.0000e+00\n",
            "Epoch 20/30\n",
            "532/532 [==============================] - 3s 6ms/step - loss: 42605.5742 - acc: 0.0000e+00 - val_loss: 42949.7773 - val_acc: 0.0000e+00\n",
            "Epoch 21/30\n",
            "532/532 [==============================] - 3s 5ms/step - loss: 42446.9219 - acc: 0.0000e+00 - val_loss: 42660.4766 - val_acc: 0.0000e+00\n",
            "Epoch 22/30\n",
            "532/532 [==============================] - 3s 6ms/step - loss: 42156.8672 - acc: 0.0000e+00 - val_loss: 42273.3555 - val_acc: 0.0000e+00\n",
            "Epoch 23/30\n",
            "532/532 [==============================] - 3s 6ms/step - loss: 41966.8242 - acc: 0.0000e+00 - val_loss: 42162.6445 - val_acc: 0.0000e+00\n",
            "Epoch 24/30\n",
            "532/532 [==============================] - 2s 4ms/step - loss: 41706.8789 - acc: 0.0000e+00 - val_loss: 41808.2578 - val_acc: 0.0000e+00\n",
            "Epoch 25/30\n",
            "532/532 [==============================] - 2s 4ms/step - loss: 41495.4531 - acc: 0.0000e+00 - val_loss: 41974.7773 - val_acc: 0.0000e+00\n",
            "Epoch 26/30\n",
            "532/532 [==============================] - 2s 4ms/step - loss: 41252.9023 - acc: 0.0000e+00 - val_loss: 41791.7852 - val_acc: 0.0000e+00\n",
            "Epoch 27/30\n",
            "532/532 [==============================] - 2s 5ms/step - loss: 41082.5352 - acc: 0.0000e+00 - val_loss: 41343.5156 - val_acc: 0.0000e+00\n",
            "Epoch 28/30\n",
            "532/532 [==============================] - 2s 4ms/step - loss: 40900.2539 - acc: 0.0000e+00 - val_loss: 41859.5664 - val_acc: 0.0000e+00\n",
            "Epoch 29/30\n",
            "532/532 [==============================] - 2s 4ms/step - loss: 40673.3906 - acc: 0.0000e+00 - val_loss: 41064.3906 - val_acc: 0.0000e+00\n",
            "Epoch 30/30\n",
            "532/532 [==============================] - 2s 4ms/step - loss: 40435.3828 - acc: 0.0000e+00 - val_loss: 40857.3008 - val_acc: 0.0000e+00\n"
          ]
        }
      ]
    },
    {
      "cell_type": "code",
      "source": [
        "yhat_test = model.predict(x_test_nrm)"
      ],
      "metadata": {
        "colab": {
          "base_uri": "https://localhost:8080/"
        },
        "id": "o-wm3ayd5eWS",
        "outputId": "f427fdc7-b9e3-4a66-be3d-c8ec705d494d"
      },
      "execution_count": 20,
      "outputs": [
        {
          "output_type": "stream",
          "name": "stdout",
          "text": [
            "94/94 [==============================] - 0s 1ms/step\n"
          ]
        }
      ]
    },
    {
      "cell_type": "code",
      "source": [
        "print(yhat_test.shape)"
      ],
      "metadata": {
        "colab": {
          "base_uri": "https://localhost:8080/"
        },
        "id": "mAgVZgoV5mkf",
        "outputId": "93cf9b00-03a9-4248-d22d-8657822f7330"
      },
      "execution_count": 21,
      "outputs": [
        {
          "output_type": "stream",
          "name": "stdout",
          "text": [
            "(3000, 1)\n"
          ]
        }
      ]
    },
    {
      "cell_type": "code",
      "source": [
        "import matplotlib.pyplot as plt"
      ],
      "metadata": {
        "id": "3SKB7y9C5uAv"
      },
      "execution_count": 22,
      "outputs": []
    },
    {
      "cell_type": "code",
      "source": [
        "print(type(results), type(results.history),  # results is an object with some attributes and results.history is a dictionary with key \"loss\"\n",
        "      results.history)"
      ],
      "metadata": {
        "colab": {
          "base_uri": "https://localhost:8080/"
        },
        "id": "RJKDu_ongfZT",
        "outputId": "d42a2a38-8019-4f1e-ba78-ebd38b5c85af"
      },
      "execution_count": 23,
      "outputs": [
        {
          "output_type": "stream",
          "name": "stdout",
          "text": [
            "<class 'keras.callbacks.History'> <class 'dict'> {'loss': [103851.1796875, 49811.51953125, 46904.51953125, 46197.09375, 45806.54296875, 45470.43359375, 45256.61328125, 44956.7265625, 44852.44140625, 44614.1484375, 44464.41015625, 44257.0390625, 44075.03125, 43940.609375, 43834.20703125, 43521.8125, 43293.265625, 43119.36328125, 42867.6640625, 42605.57421875, 42446.921875, 42156.8671875, 41966.82421875, 41706.87890625, 41495.453125, 41252.90234375, 41082.53515625, 40900.25390625, 40673.390625, 40435.3828125], 'acc': [0.0, 0.0, 0.0, 0.0, 0.0, 0.0, 0.0, 0.0, 0.0, 0.0, 0.0, 0.0, 0.0, 0.0, 0.0, 0.0, 0.0, 0.0, 0.0, 0.0, 0.0, 0.0, 0.0, 0.0, 0.0, 0.0, 0.0, 0.0, 0.0, 0.0], 'val_loss': [54691.140625, 47386.44921875, 46322.68359375, 46037.06640625, 45865.12890625, 45330.87890625, 45059.0234375, 45171.2109375, 44652.72265625, 44581.78515625, 44354.09765625, 44599.98828125, 44582.31640625, 44036.3828125, 43822.796875, 43619.59765625, 43464.14453125, 43388.0703125, 42985.2265625, 42949.77734375, 42660.4765625, 42273.35546875, 42162.64453125, 41808.2578125, 41974.77734375, 41791.78515625, 41343.515625, 41859.56640625, 41064.390625, 40857.30078125], 'val_acc': [0.0, 0.0, 0.0, 0.0, 0.0, 0.0, 0.0, 0.0, 0.0, 0.0, 0.0, 0.0, 0.0, 0.0, 0.0, 0.0, 0.0, 0.0, 0.0, 0.0, 0.0, 0.0, 0.0, 0.0, 0.0, 0.0, 0.0, 0.0, 0.0, 0.0]}\n"
          ]
        }
      ]
    },
    {
      "cell_type": "code",
      "source": [
        "print(type(results.history['loss']), results.history['loss']) # the key \"loss\" is a list"
      ],
      "metadata": {
        "colab": {
          "base_uri": "https://localhost:8080/"
        },
        "id": "SvemcL4ZiFot",
        "outputId": "f11f35ba-c09b-4c3e-b047-4076992dc6c8"
      },
      "execution_count": 24,
      "outputs": [
        {
          "output_type": "stream",
          "name": "stdout",
          "text": [
            "<class 'list'> [103851.1796875, 49811.51953125, 46904.51953125, 46197.09375, 45806.54296875, 45470.43359375, 45256.61328125, 44956.7265625, 44852.44140625, 44614.1484375, 44464.41015625, 44257.0390625, 44075.03125, 43940.609375, 43834.20703125, 43521.8125, 43293.265625, 43119.36328125, 42867.6640625, 42605.57421875, 42446.921875, 42156.8671875, 41966.82421875, 41706.87890625, 41495.453125, 41252.90234375, 41082.53515625, 40900.25390625, 40673.390625, 40435.3828125]\n"
          ]
        }
      ]
    },
    {
      "cell_type": "code",
      "source": [
        "plt.plot(results.history['loss'], label=\"Loss\")\n",
        "plt.plot(results.history['val_loss'], label=\"Validation loss\")\n",
        "plt.legend()"
      ],
      "metadata": {
        "colab": {
          "base_uri": "https://localhost:8080/",
          "height": 447
        },
        "id": "Cyy3PZv2jqvJ",
        "outputId": "9cbde66b-078e-437d-d120-eae301744671"
      },
      "execution_count": 25,
      "outputs": [
        {
          "output_type": "execute_result",
          "data": {
            "text/plain": [
              "<matplotlib.legend.Legend at 0x7f07513caec0>"
            ]
          },
          "metadata": {},
          "execution_count": 25
        },
        {
          "output_type": "display_data",
          "data": {
            "text/plain": [
              "<Figure size 640x480 with 1 Axes>"
            ],
            "image/png": "[encoded data removed]"
          },
          "metadata": {}
        }
      ]
    },
    {
      "cell_type": "code",
      "source": [
        "plt.scatter(y_test, yhat_test)"
      ],
      "metadata": {
        "colab": {
          "base_uri": "https://localhost:8080/",
          "height": 447
        },
        "id": "kqn3BHSn6Bcb",
        "outputId": "a79c6efc-31ad-4038-e8e0-308e25ddd430"
      },
      "execution_count": 26,
      "outputs": [
        {
          "output_type": "execute_result",
          "data": {
            "text/plain": [
              "<matplotlib.collections.PathCollection at 0x7f0751a4ae30>"
            ]
          },
          "metadata": {},
          "execution_count": 26
        },
        {
          "output_type": "display_data",
          "data": {
            "text/plain": [
              "<Figure size 640x480 with 1 Axes>"
            ],
            "image/png": "[encoded data removed]"
          },
          "metadata": {}
        }
      ]
    }
  ]
}